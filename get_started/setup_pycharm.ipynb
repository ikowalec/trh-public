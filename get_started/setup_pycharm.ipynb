{
 "cells": [
  {
   "cell_type": "markdown",
   "id": "968ce4f855c3e3db",
   "metadata": {},
   "source": [
    "# How to get started with a local GitHub repository using PyCharm\n",
    "\n",
    "Other software exists and each has pros and cons. I (Igor) have first-hand experience in Pycharm and Visual Studio. Nowadays, I lean towards VS, but PyCharm is great when you work with Python only."
   ]
  },
  {
   "attachments": {},
   "cell_type": "markdown",
   "id": "381d1c4ed20abc90",
   "metadata": {},
   "source": [
    "# PyCharm:\n",
    "Navigate to https://www.jetbrains.com/pycharm/ to download and install the software.\n",
    "\n",
    "<img src=\"setup_pycharm_images/1.png\" height=\"200\" />"
   ]
  },
  {
   "cell_type": "markdown",
   "id": "48e65d195262af55",
   "metadata": {},
   "source": [
    "Once installed it is time to clone the repository:\n",
    "\n",
    "<img src=\"setup_pycharm_images/2.png\" height=\"200\" />"
   ]
  },
  {
   "attachments": {},
   "cell_type": "markdown",
   "id": "36057c0b2080d82d",
   "metadata": {},
   "source": [
    "Log into GitHub to get access to your repositories.\n",
    "\n",
    "<img src=\"setup_pycharm_images/3.png\" height=\"200\" />"
   ]
  },
  {
   "attachments": {},
   "cell_type": "markdown",
   "id": "ad5f9063f1d0fc0c",
   "metadata": {},
   "source": [
    "Go through the browser prompt for authorisation.\n",
    "\n",
    "<img src=\"setup_pycharm_images/4.png\" height=\"200\" />"
   ]
  },
  {
   "attachments": {},
   "cell_type": "markdown",
   "id": "4d48870540c8547b",
   "metadata": {},
   "source": [
    "Navigate to the repository of interest once authorised.\n",
    "\n",
    "<img src=\"setup_pycharm_images/5.png\" height=\"200\" />"
   ]
  },
  {
   "attachments": {},
   "cell_type": "markdown",
   "id": "7a5cb09e659b3263",
   "metadata": {},
   "source": [
    "Clone the repository to get the files downloaded and Git configured.\n",
    "\n",
    "<img src=\"setup_pycharm_images/6.png\" height=\"200\" />"
   ]
  },
  {
   "attachments": {},
   "cell_type": "markdown",
   "id": "ff665b935af1228b",
   "metadata": {},
   "source": [
    "Open and trust the project to allow editing files. Be careful when cloning repositories from the internet!\n",
    "\n",
    "<img src=\"setup_pycharm_images/7.png\" height=\"200\" />\n"
   ]
  },
  {
   "attachments": {},
   "cell_type": "markdown",
   "id": "d7afe35478f43e5",
   "metadata": {},
   "source": [
    "Your project files and Python interpreter linked to the environment will be set up. Make sure to add new files you are working with to Git to have version control!\n",
    "\n",
    "<img src=\"setup_pycharm_images/8.png\" height=\"200\" />\n"
   ]
  },
  {
   "attachments": {},
   "cell_type": "markdown",
   "id": "572fa0f067b6c7fa",
   "metadata": {},
   "source": [
    "Working directly with the _main_ branch is really only acceptable when working alone. When sharing the user space with others you should work in your own branch and merge the changes when ready.\n",
    "<img src=\"setup_pycharm_images/9.png\" height=\"200\" />"
   ]
  },
  {
   "attachments": {},
   "cell_type": "markdown",
   "id": "36be0489cc063fb5",
   "metadata": {},
   "source": [
    "Start the new branch with a name of your choice:\n",
    "<img src=\"setup_pycharm_images/10.png\" height=\"200\" />\n",
    "\n",
    "Then push to the changes to get the branch uploaded.\n",
    "<img src=\"setup_pycharm_images/11.png\" height=\"200\" />\n",
    "<img src=\"setup_pycharm_images/12.png\" height=\"200\" />"
   ]
  },
  {
   "attachments": {},
   "cell_type": "markdown",
   "id": "9a8804e89eed1529",
   "metadata": {},
   "source": [
    "Then you can commit the files you added/edited to your own branch:\n",
    "\n",
    "<img src=\"setup_pycharm_images/13.png\" height=\"200\" />"
   ]
  },
  {
   "attachments": {},
   "cell_type": "markdown",
   "id": "d10a71d328506cb4",
   "metadata": {},
   "source": [
    "Once commited you will see an arrow next to your branch name indicating that there are changes pending upload:\n",
    "\n",
    "<img src=\"setup_pycharm_images/14.png\" height=\"200\" />\n",
    "\n",
    "Use the dropdown menu or Ctrl+Shift+K to push (upload) the changes.\n",
    "\n",
    "<img src=\"setup_pycharm_images/15.png\" height=\"200\" />"
   ]
  },
  {
   "attachments": {},
   "cell_type": "markdown",
   "id": "57401587da1606a5",
   "metadata": {},
   "source": [
    "To merge the changes into the _main_ codebase you need to open a Pull Request:\n",
    "\n",
    "<img src=\"setup_pycharm_images/16.png\" height=\"200\" />\n",
    "\n",
    "Ensure you have origin/main on the left and origin/your-branch-name on the right:\n",
    "<img src=\"setup_pycharm_images/17.png\" height=\"200\" />"
   ]
  },
  {
   "attachments": {},
   "cell_type": "markdown",
   "id": "b49bf6025498fffa",
   "metadata": {},
   "source": [
    "Once you've opened a pull request, you can request a review to e.g. test the code or get help!\n",
    "<img src=\"setup_pycharm_images/18.png\" height=\"200\" />"
   ]
  },
  {
   "attachments": {},
   "cell_type": "markdown",
   "id": "c2ad8a729235b3da",
   "metadata": {},
   "source": [
    "The pull request will be visible to everyone on the GitHub website:\n",
    "<img src=\"setup_pycharm_images/19.png\" height=\"200\" />\n"
   ]
  },
  {
   "attachments": {},
   "cell_type": "markdown",
   "id": "8b7c093998306485",
   "metadata": {},
   "source": [
    "If the edits affect people we will be using a review process. Otherwise, uploading files is generally safe, so you can merge the changes yourself.\n",
    "<img src=\"setup_pycharm_images/20.png\" height=\"200\" />"
   ]
  },
  {
   "attachments": {},
   "cell_type": "markdown",
   "id": "10903853149b284e",
   "metadata": {},
   "source": [
    "Congratulations! You are now using a version controlled code!\n",
    "\n",
    "Once your code is tested and merged into _main_, you can safely delete the branch and start a new one for the next project.\n",
    "\n",
    "<img src=\"setup_pycharm_images/21.png\" height=\"200\" />"
   ]
  }
 ],
 "metadata": {
  "kernelspec": {
   "display_name": "Python 3 (ipykernel)",
   "language": "python",
   "name": "python3"
  },
  "language_info": {
   "codemirror_mode": {
    "name": "ipython",
    "version": 3
   },
   "file_extension": ".py",
   "mimetype": "text/x-python",
   "name": "python",
   "nbconvert_exporter": "python",
   "pygments_lexer": "ipython3",
   "version": "3.12.5"
  }
 },
 "nbformat": 4,
 "nbformat_minor": 5
}
