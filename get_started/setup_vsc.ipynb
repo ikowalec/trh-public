{
 "cells": [
  {
   "cell_type": "markdown",
   "id": "20e98e3c",
   "metadata": {},
   "source": [
    "\n",
    "# How to get started with a local GitHub repository using Visual Studio\n",
    "\n",
    "Other software exists and each has pros and cons. I (Igor) have first-hand experience in Pycharm and Visual Studio. Nowadays, I lean towards VS, but PyCharm is great when you work with Python only."
   ]
  },
  {
   "cell_type": "markdown",
   "id": "edc89da4",
   "metadata": {},
   "source": [
    "Navigate to https://code.visualstudio.com/ to download and install Visual Studio Code.\n",
    "\n",
    "<img src=\"setup_vsc_images/00.png\" width=\"300\" />\n"
   ]
  },
  {
   "cell_type": "markdown",
   "id": "0488e68e",
   "metadata": {},
   "source": [
    "Once installed login to GitHub and Authorize the app:\n",
    "\n",
    "<img src=\"setup_vsc_images/0.png\" width=\"300\" />\n"
   ]
  },
  {
   "cell_type": "markdown",
   "id": "9ee2d3d4",
   "metadata": {},
   "source": [
    "You will be redirected to the browser for authorisation:\n",
    "\n",
    "<img src=\"setup_vsc_images/01.png\" width=\"300\" />\n",
    "\n",
    "<img src=\"setup_vsc_images/02.png\" width=\"300\" />\n"
   ]
  },
  {
   "cell_type": "markdown",
   "id": "c84efab6",
   "metadata": {},
   "source": [
    "You might need to allow redirecting from the browser back to the app:\n",
    "\n",
    "<img src=\"setup_vsc_images/03.png\" width=\"300\" />\n",
    "\n"
   ]
  },
  {
   "cell_type": "markdown",
   "id": "385ae8c9",
   "metadata": {},
   "source": [
    "Then proceed to cloning the repository\n",
    "\n",
    "<img src=\"setup_vsc_images/1.png\" width=\"600\" />\n",
    "\n"
   ]
  },
  {
   "cell_type": "markdown",
   "id": "8fcfce5d",
   "metadata": {},
   "source": [
    "And choose the repository of interest:\n",
    "\n",
    "<img src=\"setup_vsc_images/2.png\" width=\"600\" />\n",
    "\n",
    "<img src=\"setup_vsc_images/3.png\" width=\"600\" />\n"
   ]
  },
  {
   "cell_type": "markdown",
   "id": "84824172",
   "metadata": {},
   "source": [
    "In the version control section make sure to enable \"Repositories\" view:\n",
    "\n",
    "<img src=\"setup_vsc_images/4.png\" width=\"600\" />\n",
    "\n",
    "<img src=\"setup_vsc_images/5.png\" width=\"300\" />"
   ]
  },
  {
   "cell_type": "markdown",
   "id": "5838153d",
   "metadata": {},
   "source": [
    "Then create a new branch in which you will be working.\n",
    "\n",
    "<img src=\"setup_vsc_images/6.png\" width=\"300\" />\n",
    "<br>\n",
    "<img src=\"setup_vsc_images/7.png\" width=\"800\" />\n",
    "<br>\n",
    "\n",
    "Then, after giving it a name - publish the branch.\n",
    "\n",
    "<img src=\"setup_vsc_images/8.png\" width=\"300\" />"
   ]
  },
  {
   "cell_type": "markdown",
   "id": "c949fb6b",
   "metadata": {},
   "source": [
    "Return to the Explorer view and create a new file.\n",
    "\n",
    "<img src=\"setup_vsc_images/9.png\" width=\"300\" />\n"
   ]
  },
  {
   "cell_type": "markdown",
   "id": "4e1038a8",
   "metadata": {},
   "source": [
    "Once you have added the necessary edits to your file, make sure to save with CTRL+S. Note the green colour of the filename - this indicates that the file is new to the repository and is not yet version controlled.\n",
    "\n",
    "<img src=\"setup_vsc_images/10.png\" width=\"300\" />\n",
    "\n",
    "Then navigate to the Version Control section. Add a comment on the commit, stage the changes using \"+\" and hten press the \"Commit\" button.\n",
    "\n",
    "At this stage the changes hav eonly made it to the local repository on your hard drive. To publish the changes you have to \"Push\" the changes into the remote (or _origin_) repository. This can be done either using the \"Sync Changes\" or the \"Push\" button.\n",
    "\n",
    "<img src=\"setup_vsc_images/11.png\" width=\"300\" />"
   ]
  },
  {
   "cell_type": "markdown",
   "id": "8189f7d0",
   "metadata": {},
   "source": [
    "Note that the file name is now white - indicating no changes vs version control. Once you make changes to the file, it will change to yellow/tan, indicating changes pending commit.\n",
    "\n",
    "<img src=\"setup_vsc_images/12.png\" width=\"300\" />\n",
    "<br>\n",
    "<img src=\"setup_vsc_images/13.png\" width=\"300\" />"
   ]
  },
  {
   "cell_type": "markdown",
   "id": "e1e91f23",
   "metadata": {},
   "source": [
    "This is the crucial part - when working in a collaborative environment we must take extra care not to disrupt someone else's work. Therefore, we work in our own branches. Once the code is ready to be a part of the _main_ code, we can open a Merge request, to make the process more streamlined - we can request reviews from other users etc.\n",
    "\n",
    "There are two ways of doing this -> on the website using GitHub Viewer or using the GitHub Pull Requests extension within VS code. In VS Code press CTRL+SHIFT+X to open the extensions menu and install the GitHub Pull Requests package.\n",
    "\n",
    "<img src=\"setup_vsc_images/14.png\" width=\"300\" />\n",
    "\n",
    "Then you can navigate to the extension view by selecting the GitHub logo on the left panel. From there you can open a new pull request.\n",
    "\n",
    "<img src=\"setup_vsc_images/15.png\" width=\"300\" />\n",
    "\n"
   ]
  },
  {
   "cell_type": "markdown",
   "id": "262fd650",
   "metadata": {},
   "source": [
    "Once you are happy with the description of your introduced changes create the pull request by clicking the  blue \"Create\" button.\n",
    "\n",
    "<img src=\"setup_vsc_images/16.png\" width=\"300\" />\n"
   ]
  },
  {
   "cell_type": "markdown",
   "id": "3979a5a9",
   "metadata": {},
   "source": [
    "In this view you can manage the Pull Request. The contents will get automatically updated with each commit. \n",
    "\n",
    "<img src=\"setup_vsc_images/17.png\" width=\"600\" />\n",
    "\n",
    "You can assign users to the pull request, request revies, assign labels, make comments etc. If there are conflicts with the base branch in _main_, other users can use your branch and help you with edits. "
   ]
  },
  {
   "cell_type": "markdown",
   "id": "78e289a7",
   "metadata": {},
   "source": [
    "Once all problems are resolved A reviewer (or yourself at the early stage of this repository) can approve the changes and Merge the Pull Request.\n",
    "\n",
    "<img src=\"setup_vsc_images/18.png\" width=\"600\" />\n",
    "\n",
    "<img src=\"setup_vsc_images/19.png\" width=\"800\" />\n"
   ]
  },
  {
   "cell_type": "markdown",
   "id": "19f2600a",
   "metadata": {},
   "source": [
    "Finally, once your code made its way to the _main_ codebase, make sure to update your local _main_ branch.\n",
    "\n",
    "<img src=\"setup_vsc_images/20.png\" width=\"300\" />\n",
    "\n",
    "# Congratulations! Now you can start a new branch for your next project!"
   ]
  }
 ],
 "metadata": {
  "language_info": {
   "name": "python"
  }
 },
 "nbformat": 4,
 "nbformat_minor": 5
}
