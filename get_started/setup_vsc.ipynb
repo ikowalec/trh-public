{
 "cells": [
  {
   "cell_type": "markdown",
   "id": "20e98e3c",
   "metadata": {},
   "source": [
    "\n",
    "# How to get started with a local GitHub repository using Visual Studio\n",
    "\n",
    "Other software exists and each has pros and cons. I (Igor) have first-hand experience in Pycharm and Visual Studio. Nowadays, I lean towards VS, but PyCharm is great when you work with Python only."
   ]
  },
  {
   "cell_type": "markdown",
   "id": "edc89da4",
   "metadata": {},
   "source": [
    "Navigate to https://code.visualstudio.com/ to download and install Visual Studio Code.\n",
    "<img src=\"setup_vsc_images/00.png\" width=\"300\" />\n",
    "\n",
    "Once installed login to GitHub and Authorize the app:\n",
    "\n",
    "<img src=\"setup_vsc_images/0.png\" width=\"300\" />\n",
    "\n",
    "You will be redirected to the browser for authorisation:\n",
    "\n",
    "<img src=\"setup_vsc_images/01.png\" width=\"300\" />\n",
    "<img src=\"setup_vsc_images/02.png\" width=\"300\" />\n",
    "\n",
    "You might need to allow redirecting from the browser back to the app:\n",
    "\n",
    "<img src=\"setup_vsc_images/03.png\" width=\"300\" />\n",
    "\n",
    "\n",
    "Then proceed to cloning the repository\n",
    "\n",
    "<img src=\"setup_vsc_images/1.png\" width=\"600\" />\n",
    "\n",
    "And choose the repository of interest\n",
    "\n",
    "<img src=\"setup_vsc_images/2.png\" width=\"600\" />\n",
    "<img src=\"setup_vsc_images/3.png\" width=\"600\" />\n"
   ]
  }
 ],
 "metadata": {
  "language_info": {
   "name": "python"
  }
 },
 "nbformat": 4,
 "nbformat_minor": 5
}
